{
 "cells": [
  {
   "cell_type": "code",
   "execution_count": 1,
   "id": "34a81002",
   "metadata": {},
   "outputs": [],
   "source": [
    "import numpy as np\n",
    "import pandas as pd\n",
    "import spacy\n",
    "import nltk\n",
    "from spacy.tokens import DocBin\n",
    "from tqdm import tqdm"
   ]
  },
  {
   "cell_type": "code",
   "execution_count": 2,
   "id": "3abbadf9",
   "metadata": {},
   "outputs": [
    {
     "data": {
      "text/html": [
       "<div>\n",
       "<style scoped>\n",
       "    .dataframe tbody tr th:only-of-type {\n",
       "        vertical-align: middle;\n",
       "    }\n",
       "\n",
       "    .dataframe tbody tr th {\n",
       "        vertical-align: top;\n",
       "    }\n",
       "\n",
       "    .dataframe thead th {\n",
       "        text-align: right;\n",
       "    }\n",
       "</style>\n",
       "<table border=\"1\" class=\"dataframe\">\n",
       "  <thead>\n",
       "    <tr style=\"text-align: right;\">\n",
       "      <th></th>\n",
       "      <th>examples</th>\n",
       "    </tr>\n",
       "  </thead>\n",
       "  <tbody>\n",
       "    <tr>\n",
       "      <th>0</th>\n",
       "      <td>{'id': '18c2f619-f102-452f-ab81-d26f7e283ffe',...</td>\n",
       "    </tr>\n",
       "    <tr>\n",
       "      <th>1</th>\n",
       "      <td>{'id': '487c93e3-0d45-4088-a378-cf3a01c8953d',...</td>\n",
       "    </tr>\n",
       "    <tr>\n",
       "      <th>2</th>\n",
       "      <td>{'id': 'd5056874-895a-4a7f-9e0f-828d414d65d9',...</td>\n",
       "    </tr>\n",
       "    <tr>\n",
       "      <th>3</th>\n",
       "      <td>{'id': '20c792c7-0c4b-42d0-8127-0e04113db384',...</td>\n",
       "    </tr>\n",
       "    <tr>\n",
       "      <th>4</th>\n",
       "      <td>{'id': 'f5359e0d-4d4a-4707-95a3-4c627fc4a83b',...</td>\n",
       "    </tr>\n",
       "  </tbody>\n",
       "</table>\n",
       "</div>"
      ],
      "text/plain": [
       "                                            examples\n",
       "0  {'id': '18c2f619-f102-452f-ab81-d26f7e283ffe',...\n",
       "1  {'id': '487c93e3-0d45-4088-a378-cf3a01c8953d',...\n",
       "2  {'id': 'd5056874-895a-4a7f-9e0f-828d414d65d9',...\n",
       "3  {'id': '20c792c7-0c4b-42d0-8127-0e04113db384',...\n",
       "4  {'id': 'f5359e0d-4d4a-4707-95a3-4c627fc4a83b',..."
      ]
     },
     "execution_count": 2,
     "metadata": {},
     "output_type": "execute_result"
    }
   ],
   "source": [
    "data = pd.read_json('..\\\\data\\\\Corona2.json')\n",
    "data.head()"
   ]
  },
  {
   "cell_type": "code",
   "execution_count": 3,
   "id": "808dfa1c",
   "metadata": {},
   "outputs": [
    {
     "data": {
      "text/plain": [
       "Index(['examples'], dtype='object')"
      ]
     },
     "execution_count": 3,
     "metadata": {},
     "output_type": "execute_result"
    }
   ],
   "source": [
    "data.keys()"
   ]
  },
  {
   "cell_type": "code",
   "execution_count": 4,
   "id": "fc402285",
   "metadata": {},
   "outputs": [
    {
     "data": {
      "text/plain": [
       "dict_keys(['id', 'content', 'metadata', 'annotations', 'classifications'])"
      ]
     },
     "execution_count": 4,
     "metadata": {},
     "output_type": "execute_result"
    }
   ],
   "source": [
    "data[\"examples\"][0].keys()"
   ]
  },
  {
   "cell_type": "code",
   "execution_count": 5,
   "id": "6588fe90",
   "metadata": {},
   "outputs": [
    {
     "data": {
      "text/plain": [
       "'18c2f619-f102-452f-ab81-d26f7e283ffe'"
      ]
     },
     "execution_count": 5,
     "metadata": {},
     "output_type": "execute_result"
    }
   ],
   "source": [
    "data[\"examples\"][0][\"id\"]"
   ]
  },
  {
   "cell_type": "code",
   "execution_count": 6,
   "id": "19cc64f7",
   "metadata": {},
   "outputs": [
    {
     "data": {
      "text/plain": [
       "\"While bismuth compounds (Pepto-Bismol) decreased the number of bowel movements in those with travelers' diarrhea, they do not decrease the length of illness.[91] Anti-motility agents like loperamide are also effective at reducing the number of stools but not the duration of disease.[8] These agents should be used only if bloody diarrhea is not present.[92]\\n\\nDiosmectite, a natural aluminomagnesium silicate clay, is effective in alleviating symptoms of acute diarrhea in children,[93] and also has some effects in chronic functional diarrhea, radiation-induced diarrhea, and chemotherapy-induced diarrhea.[45] Another absorbent agent used for the treatment of mild diarrhea is kaopectate.\\n\\nRacecadotril an antisecretory medication may be used to treat diarrhea in children and adults.[86] It has better tolerability than loperamide, as it causes less constipation and flatulence.[94]\""
      ]
     },
     "execution_count": 6,
     "metadata": {},
     "output_type": "execute_result"
    }
   ],
   "source": [
    "data[\"examples\"][0][\"content\"]"
   ]
  },
  {
   "cell_type": "code",
   "execution_count": 7,
   "id": "7d17162a",
   "metadata": {},
   "outputs": [
    {
     "data": {
      "text/plain": [
       "{}"
      ]
     },
     "execution_count": 7,
     "metadata": {},
     "output_type": "execute_result"
    }
   ],
   "source": [
    "data[\"examples\"][0][\"metadata\"]"
   ]
  },
  {
   "cell_type": "code",
   "execution_count": 8,
   "id": "02de9e87",
   "metadata": {},
   "outputs": [
    {
     "data": {
      "text/plain": [
       "[{'id': '0825a1bf-6a6e-4fa2-be77-8d104701eaed',\n",
       "  'tag_id': 'c06bd022-6ded-44a5-8d90-f17685bb85a1',\n",
       "  'end': 371,\n",
       "  'start': 360,\n",
       "  'example_id': '18c2f619-f102-452f-ab81-d26f7e283ffe',\n",
       "  'tag_name': 'Medicine',\n",
       "  'value': 'Diosmectite',\n",
       "  'correct': None,\n",
       "  'human_annotations': [{'timestamp': '2020-03-21T00:24:32.098000Z',\n",
       "    'annotator_id': 1,\n",
       "    'tagged_token_id': '0825a1bf-6a6e-4fa2-be77-8d104701eaed',\n",
       "    'name': 'Ashpat123',\n",
       "    'reason': 'exploration'}],\n",
       "  'model_annotations': []},\n",
       " {'id': '145f62b1-bbf5-42f1-8ad5-9c7e08337bf0',\n",
       "  'tag_id': 'c06bd022-6ded-44a5-8d90-f17685bb85a1',\n",
       "  'end': 408,\n",
       "  'start': 383,\n",
       "  'example_id': '18c2f619-f102-452f-ab81-d26f7e283ffe',\n",
       "  'tag_name': 'Medicine',\n",
       "  'value': 'aluminomagnesium silicate',\n",
       "  'correct': None,\n",
       "  'human_annotations': [{'timestamp': '2020-03-21T00:24:43.692000Z',\n",
       "    'annotator_id': 1,\n",
       "    'tagged_token_id': '145f62b1-bbf5-42f1-8ad5-9c7e08337bf0',\n",
       "    'name': 'Ashpat123',\n",
       "    'reason': 'exploration'}],\n",
       "  'model_annotations': []},\n",
       " {'id': '243efeb2-723f-4be4-933c-fbbf7e0f9903',\n",
       "  'tag_id': '03eb3e50-d4d8-4261-a60b-fa5aee5deb4a',\n",
       "  'end': 112,\n",
       "  'start': 104,\n",
       "  'example_id': '18c2f619-f102-452f-ab81-d26f7e283ffe',\n",
       "  'tag_name': 'MedicalCondition',\n",
       "  'value': 'diarrhea',\n",
       "  'correct': None,\n",
       "  'human_annotations': [{'timestamp': '2020-03-21T00:24:09.423000Z',\n",
       "    'annotator_id': 1,\n",
       "    'tagged_token_id': '243efeb2-723f-4be4-933c-fbbf7e0f9903',\n",
       "    'name': 'Ashpat123',\n",
       "    'reason': 'exploration'}],\n",
       "  'model_annotations': []},\n",
       " {'id': '281f49d3-879a-4409-b09e-4cfae019af16',\n",
       "  'tag_id': 'c06bd022-6ded-44a5-8d90-f17685bb85a1',\n",
       "  'end': 689,\n",
       "  'start': 679,\n",
       "  'example_id': '18c2f619-f102-452f-ab81-d26f7e283ffe',\n",
       "  'tag_name': 'Medicine',\n",
       "  'value': 'kaopectate',\n",
       "  'correct': None,\n",
       "  'human_annotations': [{'timestamp': '2020-03-21T00:25:38.366000Z',\n",
       "    'annotator_id': 1,\n",
       "    'tagged_token_id': '281f49d3-879a-4409-b09e-4cfae019af16',\n",
       "    'name': 'Ashpat123',\n",
       "    'reason': 'exploration'}],\n",
       "  'model_annotations': []},\n",
       " {'id': '32fdf9e7-63f7-442a-8e25-f08ea4ad94d5',\n",
       "  'tag_id': 'c06bd022-6ded-44a5-8d90-f17685bb85a1',\n",
       "  'end': 23,\n",
       "  'start': 6,\n",
       "  'example_id': '18c2f619-f102-452f-ab81-d26f7e283ffe',\n",
       "  'tag_name': 'Medicine',\n",
       "  'value': 'bismuth compounds',\n",
       "  'correct': None,\n",
       "  'human_annotations': [{'timestamp': '2020-03-21T00:23:46.721000Z',\n",
       "    'annotator_id': 1,\n",
       "    'tagged_token_id': '32fdf9e7-63f7-442a-8e25-f08ea4ad94d5',\n",
       "    'name': 'Ashpat123',\n",
       "    'reason': 'exploration'}],\n",
       "  'model_annotations': []},\n",
       " {'id': '392094d2-febf-4074-a2ca-4c0082f4e5b8',\n",
       "  'tag_id': 'c06bd022-6ded-44a5-8d90-f17685bb85a1',\n",
       "  'end': 37,\n",
       "  'start': 25,\n",
       "  'example_id': '18c2f619-f102-452f-ab81-d26f7e283ffe',\n",
       "  'tag_name': 'Medicine',\n",
       "  'value': 'Pepto-Bismol',\n",
       "  'correct': None,\n",
       "  'human_annotations': [{'timestamp': '2020-03-21T00:23:58.861000Z',\n",
       "    'annotator_id': 1,\n",
       "    'tagged_token_id': '392094d2-febf-4074-a2ca-4c0082f4e5b8',\n",
       "    'name': 'Ashpat123',\n",
       "    'reason': 'exploration'}],\n",
       "  'model_annotations': []},\n",
       " {'id': '450b8c30-cf2e-4774-96d9-58b4160bea38',\n",
       "  'tag_id': '03eb3e50-d4d8-4261-a60b-fa5aee5deb4a',\n",
       "  'end': 470,\n",
       "  'start': 461,\n",
       "  'example_id': '18c2f619-f102-452f-ab81-d26f7e283ffe',\n",
       "  'tag_name': 'MedicalCondition',\n",
       "  'value': 'diarrhea ',\n",
       "  'correct': None,\n",
       "  'human_annotations': [],\n",
       "  'model_annotations': []},\n",
       " {'id': '6b73f683-7130-4e16-bcc2-e3cc8cf89f4d',\n",
       "  'tag_id': 'c06bd022-6ded-44a5-8d90-f17685bb85a1',\n",
       "  'end': 589,\n",
       "  'start': 577,\n",
       "  'example_id': '18c2f619-f102-452f-ab81-d26f7e283ffe',\n",
       "  'tag_name': 'Medicine',\n",
       "  'value': 'chemotherapy',\n",
       "  'correct': None,\n",
       "  'human_annotations': [{'timestamp': '2020-03-21T00:25:24.179000Z',\n",
       "    'annotator_id': 1,\n",
       "    'tagged_token_id': '6b73f683-7130-4e16-bcc2-e3cc8cf89f4d',\n",
       "    'name': 'Ashpat123',\n",
       "    'reason': 'exploration'}],\n",
       "  'model_annotations': []},\n",
       " {'id': '74574b7f-d535-48e1-8651-2708adcfe453',\n",
       "  'tag_id': '03eb3e50-d4d8-4261-a60b-fa5aee5deb4a',\n",
       "  'end': 865,\n",
       "  'start': 853,\n",
       "  'example_id': '18c2f619-f102-452f-ab81-d26f7e283ffe',\n",
       "  'tag_name': 'MedicalCondition',\n",
       "  'value': 'constipation',\n",
       "  'correct': None,\n",
       "  'human_annotations': [{'timestamp': '2020-03-21T00:26:31.676000Z',\n",
       "    'annotator_id': 1,\n",
       "    'tagged_token_id': '74574b7f-d535-48e1-8651-2708adcfe453',\n",
       "    'name': 'Ashpat123',\n",
       "    'reason': 'exploration'}],\n",
       "  'model_annotations': []},\n",
       " {'id': '7572ab8e-ae99-400c-b4ab-ed46fbc9f97e',\n",
       "  'tag_id': 'c06bd022-6ded-44a5-8d90-f17685bb85a1',\n",
       "  'end': 198,\n",
       "  'start': 188,\n",
       "  'example_id': '18c2f619-f102-452f-ab81-d26f7e283ffe',\n",
       "  'tag_name': 'Medicine',\n",
       "  'value': 'loperamide',\n",
       "  'correct': None,\n",
       "  'human_annotations': [{'timestamp': '2020-03-21T00:24:17.680000Z',\n",
       "    'annotator_id': 1,\n",
       "    'tagged_token_id': '7572ab8e-ae99-400c-b4ab-ed46fbc9f97e',\n",
       "    'name': 'Ashpat123',\n",
       "    'reason': 'exploration'}],\n",
       "  'model_annotations': []},\n",
       " {'id': '800e6c6c-0bfb-4819-a25a-34f759753457',\n",
       "  'tag_id': '03eb3e50-d4d8-4261-a60b-fa5aee5deb4a',\n",
       "  'end': 762,\n",
       "  'start': 754,\n",
       "  'example_id': '18c2f619-f102-452f-ab81-d26f7e283ffe',\n",
       "  'tag_name': 'MedicalCondition',\n",
       "  'value': 'diarrhea',\n",
       "  'correct': None,\n",
       "  'human_annotations': [{'timestamp': '2020-03-21T00:26:07.368000Z',\n",
       "    'annotator_id': 1,\n",
       "    'tagged_token_id': '800e6c6c-0bfb-4819-a25a-34f759753457',\n",
       "    'name': 'Ashpat123',\n",
       "    'reason': 'exploration'}],\n",
       "  'model_annotations': []},\n",
       " {'id': '8214556a-7584-4d9b-86cd-5e09137ad904',\n",
       "  'tag_id': '03eb3e50-d4d8-4261-a60b-fa5aee5deb4a',\n",
       "  'end': 880,\n",
       "  'start': 870,\n",
       "  'example_id': '18c2f619-f102-452f-ab81-d26f7e283ffe',\n",
       "  'tag_name': 'MedicalCondition',\n",
       "  'value': 'flatulence',\n",
       "  'correct': None,\n",
       "  'human_annotations': [{'timestamp': '2020-03-21T00:26:41.322000Z',\n",
       "    'annotator_id': 1,\n",
       "    'tagged_token_id': '8214556a-7584-4d9b-86cd-5e09137ad904',\n",
       "    'name': 'Ashpat123',\n",
       "    'reason': 'exploration'}],\n",
       "  'model_annotations': []},\n",
       " {'id': '98968e14-6756-4174-9d3d-7abd58b3aa34',\n",
       "  'tag_id': 'c06bd022-6ded-44a5-8d90-f17685bb85a1',\n",
       "  'end': 833,\n",
       "  'start': 823,\n",
       "  'example_id': '18c2f619-f102-452f-ab81-d26f7e283ffe',\n",
       "  'tag_name': 'Medicine',\n",
       "  'value': 'loperamide',\n",
       "  'correct': None,\n",
       "  'human_annotations': [{'timestamp': '2020-03-21T00:26:12.759000Z',\n",
       "    'annotator_id': 1,\n",
       "    'tagged_token_id': '98968e14-6756-4174-9d3d-7abd58b3aa34',\n",
       "    'name': 'Ashpat123',\n",
       "    'reason': 'exploration'}],\n",
       "  'model_annotations': []},\n",
       " {'id': 'a0a03c7b-cfad-41ee-9f5c-f8a802475994',\n",
       "  'tag_id': '03eb3e50-d4d8-4261-a60b-fa5aee5deb4a',\n",
       "  'end': 853,\n",
       "  'start': 852,\n",
       "  'example_id': '18c2f619-f102-452f-ab81-d26f7e283ffe',\n",
       "  'tag_name': 'MedicalCondition',\n",
       "  'value': ' ',\n",
       "  'correct': None,\n",
       "  'human_annotations': [],\n",
       "  'model_annotations': []},\n",
       " {'id': 'bfbddfd4-38aa-43a7-9366-24c95829ac8c',\n",
       "  'tag_id': '03eb3e50-d4d8-4261-a60b-fa5aee5deb4a',\n",
       "  'end': 469,\n",
       "  'start': 461,\n",
       "  'example_id': '18c2f619-f102-452f-ab81-d26f7e283ffe',\n",
       "  'tag_name': 'MedicalCondition',\n",
       "  'value': 'diarrhea',\n",
       "  'correct': None,\n",
       "  'human_annotations': [{'timestamp': '2020-03-21T00:25:06.921000Z',\n",
       "    'annotator_id': 1,\n",
       "    'tagged_token_id': 'bfbddfd4-38aa-43a7-9366-24c95829ac8c',\n",
       "    'name': 'Ashpat123',\n",
       "    'reason': 'exploration'}],\n",
       "  'model_annotations': []},\n",
       " {'id': 'd7d68c18-0d8e-4547-a2fa-81fdcaf3080e',\n",
       "  'tag_id': '03eb3e50-d4d8-4261-a60b-fa5aee5deb4a',\n",
       "  'end': 543,\n",
       "  'start': 535,\n",
       "  'example_id': '18c2f619-f102-452f-ab81-d26f7e283ffe',\n",
       "  'tag_name': 'MedicalCondition',\n",
       "  'value': 'diarrhea',\n",
       "  'correct': None,\n",
       "  'human_annotations': [{'timestamp': '2020-03-21T00:25:12.203000Z',\n",
       "    'annotator_id': 1,\n",
       "    'tagged_token_id': 'd7d68c18-0d8e-4547-a2fa-81fdcaf3080e',\n",
       "    'name': 'Ashpat123',\n",
       "    'reason': 'exploration'}],\n",
       "  'model_annotations': []},\n",
       " {'id': 'ee956220-42a4-4a91-b9f0-75019c4f5dd9',\n",
       "  'tag_id': 'c06bd022-6ded-44a5-8d90-f17685bb85a1',\n",
       "  'end': 704,\n",
       "  'start': 692,\n",
       "  'example_id': '18c2f619-f102-452f-ab81-d26f7e283ffe',\n",
       "  'tag_name': 'Medicine',\n",
       "  'value': 'Racecadotril',\n",
       "  'correct': None,\n",
       "  'human_annotations': [{'timestamp': '2020-03-21T00:25:56.503000Z',\n",
       "    'annotator_id': 1,\n",
       "    'tagged_token_id': 'ee956220-42a4-4a91-b9f0-75019c4f5dd9',\n",
       "    'name': 'Ashpat123',\n",
       "    'reason': 'exploration'}],\n",
       "  'model_annotations': []},\n",
       " {'id': 'f04a6b7e-8904-405c-9301-e4543238b7a5',\n",
       "  'tag_id': '03eb3e50-d4d8-4261-a60b-fa5aee5deb4a',\n",
       "  'end': 571,\n",
       "  'start': 563,\n",
       "  'example_id': '18c2f619-f102-452f-ab81-d26f7e283ffe',\n",
       "  'tag_name': 'MedicalCondition',\n",
       "  'value': 'diarrhea',\n",
       "  'correct': None,\n",
       "  'human_annotations': [{'timestamp': '2020-03-21T00:25:18.043000Z',\n",
       "    'annotator_id': 1,\n",
       "    'tagged_token_id': 'f04a6b7e-8904-405c-9301-e4543238b7a5',\n",
       "    'name': 'Ashpat123',\n",
       "    'reason': 'exploration'}],\n",
       "  'model_annotations': []}]"
      ]
     },
     "execution_count": 8,
     "metadata": {},
     "output_type": "execute_result"
    }
   ],
   "source": [
    "data[\"examples\"][0][\"annotations\"]"
   ]
  },
  {
   "cell_type": "code",
   "execution_count": 9,
   "id": "e1dd1211",
   "metadata": {},
   "outputs": [
    {
     "data": {
      "text/plain": [
       "[]"
      ]
     },
     "execution_count": 9,
     "metadata": {},
     "output_type": "execute_result"
    }
   ],
   "source": [
    "data[\"examples\"][0][\"classifications\"]"
   ]
  },
  {
   "cell_type": "code",
   "execution_count": 10,
   "id": "f3243a72",
   "metadata": {},
   "outputs": [
    {
     "data": {
      "text/plain": [
       "dict_keys(['id', 'tag_id', 'end', 'start', 'example_id', 'tag_name', 'value', 'correct', 'human_annotations', 'model_annotations'])"
      ]
     },
     "execution_count": 10,
     "metadata": {},
     "output_type": "execute_result"
    }
   ],
   "source": [
    "data[\"examples\"][0][\"annotations\"][0].keys()"
   ]
  },
  {
   "cell_type": "code",
   "execution_count": 11,
   "id": "7dcc7fa7",
   "metadata": {},
   "outputs": [],
   "source": [
    "training_data = [{'text': example[\"content\"], \"entities\": [(annotation[\"start\"], annotation[\"end\"], annotation[\"tag_name\"].upper()) \n",
    "                                           for annotation in example[\"annotations\"]]} \n",
    " for example in data[\"examples\"]]"
   ]
  },
  {
   "cell_type": "code",
   "execution_count": 12,
   "id": "4176d739",
   "metadata": {},
   "outputs": [
    {
     "data": {
      "text/plain": [
       "dict_keys(['text', 'entities'])"
      ]
     },
     "execution_count": 12,
     "metadata": {},
     "output_type": "execute_result"
    }
   ],
   "source": [
    "training_data[0].keys()"
   ]
  },
  {
   "cell_type": "code",
   "execution_count": 13,
   "id": "c7d84acc",
   "metadata": {},
   "outputs": [
    {
     "data": {
      "text/plain": [
       "\"While bismuth compounds (Pepto-Bismol) decreased the number of bowel movements in those with travelers' diarrhea, they do not decrease the length of illness.[91] Anti-motility agents like loperamide are also effective at reducing the number of stools but not the duration of disease.[8] These agents should be used only if bloody diarrhea is not present.[92]\\n\\nDiosmectite, a natural aluminomagnesium silicate clay, is effective in alleviating symptoms of acute diarrhea in children,[93] and also has some effects in chronic functional diarrhea, radiation-induced diarrhea, and chemotherapy-induced diarrhea.[45] Another absorbent agent used for the treatment of mild diarrhea is kaopectate.\\n\\nRacecadotril an antisecretory medication may be used to treat diarrhea in children and adults.[86] It has better tolerability than loperamide, as it causes less constipation and flatulence.[94]\""
      ]
     },
     "execution_count": 13,
     "metadata": {},
     "output_type": "execute_result"
    }
   ],
   "source": [
    "training_data[0][\"text\"]"
   ]
  },
  {
   "cell_type": "code",
   "execution_count": 14,
   "id": "e312768a",
   "metadata": {},
   "outputs": [
    {
     "data": {
      "text/plain": [
       "[(360, 371, 'MEDICINE'),\n",
       " (383, 408, 'MEDICINE'),\n",
       " (104, 112, 'MEDICALCONDITION'),\n",
       " (679, 689, 'MEDICINE'),\n",
       " (6, 23, 'MEDICINE'),\n",
       " (25, 37, 'MEDICINE'),\n",
       " (461, 470, 'MEDICALCONDITION'),\n",
       " (577, 589, 'MEDICINE'),\n",
       " (853, 865, 'MEDICALCONDITION'),\n",
       " (188, 198, 'MEDICINE'),\n",
       " (754, 762, 'MEDICALCONDITION'),\n",
       " (870, 880, 'MEDICALCONDITION'),\n",
       " (823, 833, 'MEDICINE'),\n",
       " (852, 853, 'MEDICALCONDITION'),\n",
       " (461, 469, 'MEDICALCONDITION'),\n",
       " (535, 543, 'MEDICALCONDITION'),\n",
       " (692, 704, 'MEDICINE'),\n",
       " (563, 571, 'MEDICALCONDITION')]"
      ]
     },
     "execution_count": 14,
     "metadata": {},
     "output_type": "execute_result"
    }
   ],
   "source": [
    "training_data[0][\"entities\"]"
   ]
  },
  {
   "cell_type": "code",
   "execution_count": 15,
   "id": "d63920f1",
   "metadata": {},
   "outputs": [],
   "source": [
    "#Processing data using spacy\n",
    "nlp = spacy.blank(\"en\")\n",
    "doc_bin = DocBin()"
   ]
  },
  {
   "cell_type": "code",
   "execution_count": 16,
   "id": "8d2bf2c2",
   "metadata": {},
   "outputs": [
    {
     "name": "stderr",
     "output_type": "stream",
     "text": [
      "100%|█████████████████████████████████████████████████████████████████████████████████| 31/31 [00:00<00:00, 757.96it/s]"
     ]
    },
    {
     "name": "stdout",
     "output_type": "stream",
     "text": [
      "skipping entity\n",
      "skipping entity\n",
      "skipping entity\n",
      "skipping entity\n",
      "skipping entity\n",
      "skipping entity\n",
      "skipping entity\n",
      "skipping entity\n",
      "skipping entity\n",
      "skipping entity\n",
      "skipping entity\n",
      "skipping entity\n",
      "skipping entity\n",
      "skipping entity\n",
      "skipping entity\n",
      "skipping entity\n"
     ]
    },
    {
     "name": "stderr",
     "output_type": "stream",
     "text": [
      "\n"
     ]
    }
   ],
   "source": [
    "from spacy.util import filter_spans\n",
    "\n",
    "for training_example in tqdm(training_data):\n",
    "    text = training_example[\"text\"]\n",
    "    labels = training_example[\"entities\"]\n",
    "    doc = nlp.make_doc(text)\n",
    "    ents = []\n",
    "    for start, end, label in labels:\n",
    "        span = doc.char_span(start, end, label = label, alignment_mode = \"contract\")\n",
    "        if span is None:\n",
    "            print(\"skipping entity\")\n",
    "        else:\n",
    "            ents.append(span)\n",
    "    filtered_ents = filter_spans(ents)\n",
    "    doc.ents = filtered_ents\n",
    "    doc_bin.add(doc)\n",
    "doc_bin.to_disk(\"train.spacy\")"
   ]
  },
  {
   "cell_type": "code",
   "execution_count": 17,
   "id": "0c930d90",
   "metadata": {},
   "outputs": [
    {
     "name": "stdout",
     "output_type": "stream",
     "text": [
      "\u001b[38;5;2m[+] Auto-filled config with all values\u001b[0m\n",
      "\u001b[38;5;2m[+] Saved config\u001b[0m\n",
      "config.cfg\n",
      "You can now add your data and train your pipeline:\n",
      "python -m spacy train config.cfg --paths.train ./train.spacy --paths.dev ./dev.spacy\n"
     ]
    }
   ],
   "source": [
    "!python -m spacy init fill-config base_config.cfg config.cfg"
   ]
  },
  {
   "cell_type": "code",
   "execution_count": 18,
   "id": "fa07ef9b",
   "metadata": {},
   "outputs": [
    {
     "name": "stdout",
     "output_type": "stream",
     "text": [
      "\u001b[38;5;2m[+] Created output directory: output\u001b[0m\n",
      "\u001b[38;5;4m[i] Saving to output directory: output\u001b[0m\n",
      "\u001b[38;5;4m[i] Using CPU\u001b[0m\n",
      "\u001b[1m\n",
      "=========================== Initializing pipeline ===========================\u001b[0m\n",
      "\u001b[38;5;2m[+] Initialized pipeline\u001b[0m\n",
      "\u001b[1m\n",
      "============================= Training pipeline =============================\u001b[0m\n",
      "\u001b[38;5;4m[i] Pipeline: ['tok2vec', 'ner']\u001b[0m\n",
      "\u001b[38;5;4m[i] Initial learn rate: 0.001\u001b[0m\n",
      "E    #       LOSS TOK2VEC  LOSS NER  ENTS_F  ENTS_P  ENTS_R  SCORE \n",
      "---  ------  ------------  --------  ------  ------  ------  ------\n",
      "  0       0          0.00    153.29    0.00    0.00    0.00    0.00\n",
      "  7     200       2103.31   3325.40   79.76   79.61   79.92    0.80\n",
      " 14     400        196.12    638.35   96.47   96.09   96.85    0.96\n",
      " 22     600        227.61    238.22   97.65   97.27   98.03    0.98\n",
      " 30     800        220.65    224.09   98.43   98.43   98.43    0.98\n",
      " 40    1000        283.43    177.79   98.02   98.41   97.64    0.98\n",
      " 51    1200        205.13    184.89   98.42   98.81   98.03    0.98\n",
      " 65    1400        262.04    177.62   98.43   98.05   98.82    0.98\n",
      " 81    1600        254.37    208.24   98.62   98.81   98.43    0.99\n",
      "101    1800        308.89    218.39   98.61   99.20   98.03    0.99\n",
      "127    2000        160.22    226.99   98.82   98.82   98.82    0.99\n",
      "159    2200         95.54    223.56   98.82   98.82   98.82    0.99\n",
      "198    2400        211.83    241.14   98.82   98.82   98.82    0.99\n",
      "246    2600         99.33    269.62   98.81   99.21   98.43    0.99\n",
      "295    2800        107.79    275.59   98.82   98.82   98.82    0.99\n",
      "345    3000        130.43    281.12   98.82   98.44   99.21    0.99\n",
      "393    3200        129.40    264.04   98.81   99.21   98.43    0.99\n",
      "443    3400        121.30    255.83   98.82   98.44   99.21    0.99\n",
      "492    3600        177.84    274.47   98.82   98.82   98.82    0.99\n",
      "541    3800         61.92    245.50   98.82   98.82   98.82    0.99\n",
      "590    4000        134.34    255.03   98.82   98.82   98.82    0.99\n",
      "638    4200         84.18    252.85   98.81   99.21   98.43    0.99\n",
      "688    4400        132.16    257.89   98.82   98.82   98.82    0.99\n",
      "737    4600        201.76    261.38   98.81   99.21   98.43    0.99\n",
      "\u001b[38;5;2m[+] Saved pipeline to output directory\u001b[0m\n",
      "output\\model-last\n"
     ]
    }
   ],
   "source": [
    "!python -m spacy train config.cfg --output ./output --paths.train ./train.spacy --paths.dev ./train.spacy"
   ]
  },
  {
   "cell_type": "code",
   "execution_count": 20,
   "id": "6a81da53",
   "metadata": {},
   "outputs": [],
   "source": [
    "nlp_ner = spacy.load(\"output/model-best\")"
   ]
  },
  {
   "cell_type": "code",
   "execution_count": 27,
   "id": "b3bdb641",
   "metadata": {},
   "outputs": [],
   "source": [
    "doc =nlp_ner(\"\"\"The patient was diagnosed with diabetes mellitus and prescribed insulin. He complained of severe chest pain and shortness of breath. \n",
    "Amoxicillin was administered to treat a bacterial infection. He underwent angioplasty and two stents placed a year ago. His BP and cardiac enzyme test were normal.\n",
    "He is on aspirin and plavix. The patient also went under polypectomy. Plant is to start him on Bevacizumab and radiation therapy. The patient is also suffering\n",
    "from Xeloda and hepatitis\n",
    "\"\"\")"
   ]
  },
  {
   "cell_type": "code",
   "execution_count": 28,
   "id": "9d2f453e",
   "metadata": {},
   "outputs": [
    {
     "data": {
      "text/html": [
       "<span class=\"tex2jax_ignore\"><div class=\"entities\" style=\"line-height: 2.5; direction: ltr\">The patient was diagnosed with diabetes mellitus and prescribed insulin. He complained of severe \n",
       "<mark class=\"entity\" style=\"background: #ddd; padding: 0.45em 0.6em; margin: 0 0.25em; line-height: 1; border-radius: 0.35em;\">\n",
       "    chest pain\n",
       "    <span style=\"font-size: 0.8em; font-weight: bold; line-height: 1; border-radius: 0.35em; vertical-align: middle; margin-left: 0.5rem\">MEDICALCONDITION</span>\n",
       "</mark>\n",
       " and shortness of breath. <br>\n",
       "<mark class=\"entity\" style=\"background: #ddd; padding: 0.45em 0.6em; margin: 0 0.25em; line-height: 1; border-radius: 0.35em;\">\n",
       "    Amoxicillin\n",
       "    <span style=\"font-size: 0.8em; font-weight: bold; line-height: 1; border-radius: 0.35em; vertical-align: middle; margin-left: 0.5rem\">MEDICINE</span>\n",
       "</mark>\n",
       " was administered to treat a bacterial infection. He underwent angioplasty and two stents placed a year ago. His BP and cardiac enzyme \n",
       "<mark class=\"entity\" style=\"background: #ddd; padding: 0.45em 0.6em; margin: 0 0.25em; line-height: 1; border-radius: 0.35em;\">\n",
       "    test were\n",
       "    <span style=\"font-size: 0.8em; font-weight: bold; line-height: 1; border-radius: 0.35em; vertical-align: middle; margin-left: 0.5rem\">MEDICALCONDITION</span>\n",
       "</mark>\n",
       " normal.<br>He is on aspirin and plavix. The patient also went under polypectomy. Plant is to start him on \n",
       "<mark class=\"entity\" style=\"background: #ddd; padding: 0.45em 0.6em; margin: 0 0.25em; line-height: 1; border-radius: 0.35em;\">\n",
       "    Bevacizumab\n",
       "    <span style=\"font-size: 0.8em; font-weight: bold; line-height: 1; border-radius: 0.35em; vertical-align: middle; margin-left: 0.5rem\">PATHOGEN</span>\n",
       "</mark>\n",
       " and radiation therapy. The patient is also suffering<br>from Xeloda and \n",
       "<mark class=\"entity\" style=\"background: #ddd; padding: 0.45em 0.6em; margin: 0 0.25em; line-height: 1; border-radius: 0.35em;\">\n",
       "    hepatitis\n",
       "    <span style=\"font-size: 0.8em; font-weight: bold; line-height: 1; border-radius: 0.35em; vertical-align: middle; margin-left: 0.5rem\">MEDICALCONDITION</span>\n",
       "</mark>\n",
       "<br></div></span>"
      ],
      "text/plain": [
       "<IPython.core.display.HTML object>"
      ]
     },
     "metadata": {},
     "output_type": "display_data"
    }
   ],
   "source": [
    "spacy.displacy.render(doc, style = \"ent\", jupyter = True)"
   ]
  },
  {
   "cell_type": "code",
   "execution_count": null,
   "id": "0fe88486",
   "metadata": {},
   "outputs": [],
   "source": []
  }
 ],
 "metadata": {
  "kernelspec": {
   "display_name": "Python 3 (ipykernel)",
   "language": "python",
   "name": "python3"
  },
  "language_info": {
   "codemirror_mode": {
    "name": "ipython",
    "version": 3
   },
   "file_extension": ".py",
   "mimetype": "text/x-python",
   "name": "python",
   "nbconvert_exporter": "python",
   "pygments_lexer": "ipython3",
   "version": "3.11.4"
  }
 },
 "nbformat": 4,
 "nbformat_minor": 5
}
